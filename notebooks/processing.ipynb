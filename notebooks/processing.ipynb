{
 "cells": [
  {
   "metadata": {},
   "cell_type": "markdown",
   "source": "# Training Data Cleaning",
   "id": "f5db04448fb9bbf2"
  },
  {
   "metadata": {},
   "cell_type": "code",
   "outputs": [],
   "execution_count": null,
   "source": [
    "import os\n",
    "import sys\n",
    "import logging\n",
    "import pandas as pd\n",
    "import seaborn as sns\n",
    "import matplotlib.pyplot as plt\n",
    "\n",
    "# Fix this later, imports should work without this\n",
    "sys.path.append(\n",
    "    os.path.abspath(os.path.join(os.getcwd(), os.pardir))\n",
    ")\n",
    "\n",
    "\n",
    "from common.utils import get_ipc_files, get_or_create_folder\n",
    "from common.logger import get_logger_config\n",
    "from common.constants import (\n",
    "    BASE_RAW_DATA_DIR,\n",
    "    BASE_LOGS_DIR,\n",
    "    BASE_PLOTS_DIR,\n",
    "    BASE_REPORTS_CSV_DIR,\n",
    ")"
   ],
   "id": "824372789e43b350"
  },
  {
   "metadata": {},
   "cell_type": "markdown",
   "source": "# Remove entries with `precursor_charge` less than 2",
   "id": "48049adf02ad7cd8"
  },
  {
   "metadata": {},
   "cell_type": "code",
   "outputs": [],
   "execution_count": null,
   "source": "",
   "id": "bdb7af1cf5c02f3c"
  }
 ],
 "metadata": {
  "kernelspec": {
   "display_name": "Python 3",
   "language": "python",
   "name": "python3"
  },
  "language_info": {
   "codemirror_mode": {
    "name": "ipython",
    "version": 2
   },
   "file_extension": ".py",
   "mimetype": "text/x-python",
   "name": "python",
   "nbconvert_exporter": "python",
   "pygments_lexer": "ipython2",
   "version": "2.7.6"
  }
 },
 "nbformat": 4,
 "nbformat_minor": 5
}
