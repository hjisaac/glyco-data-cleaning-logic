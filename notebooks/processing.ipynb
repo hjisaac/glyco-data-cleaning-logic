{
 "cells": [
  {
   "metadata": {},
   "cell_type": "markdown",
   "source": "# Training Data Cleaning and Split",
   "id": "f5db04448fb9bbf2"
  },
  {
   "metadata": {
    "ExecuteTime": {
     "end_time": "2025-04-03T21:25:04.323970Z",
     "start_time": "2025-04-03T21:25:04.309070Z"
    }
   },
   "cell_type": "code",
   "source": [
    "import os\n",
    "import sys\n",
    "import logging\n",
    "import pandas as pd\n",
    "import seaborn as sns\n",
    "import matplotlib.pyplot as plt\n",
    "\n",
    "# Fix this later, imports should work without this\n",
    "sys.path.append(os.path.abspath(os.path.join(os.getcwd(), os.pardir)))\n",
    "\n",
    "\n",
    "from common.utils import collect_files, get_or_create_folder\n",
    "from common.logger import get_logger_config\n",
    "from common.constants import (\n",
    "    BASE_RAW_DATA_DIR,\n",
    "    BASE_LOGS_DIR,\n",
    "    BASE_PLOTS_DIR,\n",
    "    BASE_REPORTS_CSV_DIR,\n",
    ")"
   ],
   "id": "824372789e43b350",
   "outputs": [],
   "execution_count": 3
  },
  {
   "metadata": {},
   "cell_type": "markdown",
   "source": "## Remove entries with `precursor_charge` less than 2",
   "id": "48049adf02ad7cd8"
  },
  {
   "metadata": {},
   "cell_type": "markdown",
   "source": "## Check how do the peptides in the dataset here overlap the peptides from Kevin",
   "id": "2c05b148cc61ed33"
  },
  {
   "metadata": {
    "ExecuteTime": {
     "end_time": "2025-04-03T21:28:27.478052Z",
     "start_time": "2025-04-03T21:28:27.466460Z"
    }
   },
   "cell_type": "code",
   "source": "from common.utils import get_or_create_folder, collect_files",
   "id": "bdb7af1cf5c02f3c",
   "outputs": [],
   "execution_count": 6
  },
  {
   "metadata": {
    "ExecuteTime": {
     "end_time": "2025-04-03T21:33:46.827396Z",
     "start_time": "2025-04-03T21:33:46.813725Z"
    }
   },
   "cell_type": "code",
   "source": "peptides_file_paths = collect_files(BASE_REPORTS_CSV_DIR, ext=\"csv\")\n",
   "id": "7378eb03df820149",
   "outputs": [],
   "execution_count": 11
  },
  {
   "metadata": {
    "ExecuteTime": {
     "end_time": "2025-04-03T21:48:40.416645Z",
     "start_time": "2025-04-03T21:48:40.150559Z"
    }
   },
   "cell_type": "code",
   "source": [
    "# TODO: Improve the `collect_files` function\n",
    "peptides_file_paths = [path for path in peptides_file_paths if \"unique_modified_peptides\" in path or \"unique_peptides\" in path]\n",
    "\n",
    "assert peptides_file_paths, peptides_file_paths\n",
    "# Grab all csv of interest but ATTENTION;\n",
    "# loading all many csv files will increase the computation time\n",
    "df = pd.concat([pd.read_csv(file) for file in peptides_file_paths], ignore_index=True)\n",
    "df.head(20)"
   ],
   "id": "f55befa653151e1b",
   "outputs": [
    {
     "name": "stdout",
     "output_type": "stream",
     "text": [
      "['/home/hjisaac/AI4Science/instanovo_instadeep/InstanovoGlyco/reports/csv/PXD026629/unique_peptides.csv', '/home/hjisaac/AI4Science/instanovo_instadeep/InstanovoGlyco/reports/csv/PXD026629/unique_modified_peptides.csv', '/home/hjisaac/AI4Science/instanovo_instadeep/InstanovoGlyco/reports/csv/PXD031032/unique_peptides.csv', '/home/hjisaac/AI4Science/instanovo_instadeep/InstanovoGlyco/reports/csv/PXD031032/unique_modified_peptides.csv', '/home/hjisaac/AI4Science/instanovo_instadeep/InstanovoGlyco/reports/csv/PXD031025/unique_peptides.csv', '/home/hjisaac/AI4Science/instanovo_instadeep/InstanovoGlyco/reports/csv/PXD031025/unique_modified_peptides.csv', '/home/hjisaac/AI4Science/instanovo_instadeep/InstanovoGlyco/reports/csv/PXD044641_PXD035158/unique_peptides.csv', '/home/hjisaac/AI4Science/instanovo_instadeep/InstanovoGlyco/reports/csv/PXD044641_PXD035158/unique_modified_peptides.csv', '/home/hjisaac/AI4Science/instanovo_instadeep/InstanovoGlyco/reports/csv/PXD026649/unique_peptides.csv', '/home/hjisaac/AI4Science/instanovo_instadeep/InstanovoGlyco/reports/csv/PXD026649/unique_modified_peptides.csv', '/home/hjisaac/AI4Science/instanovo_instadeep/InstanovoGlyco/reports/csv/PXD047898/unique_peptides.csv', '/home/hjisaac/AI4Science/instanovo_instadeep/InstanovoGlyco/reports/csv/PXD047898/unique_modified_peptides.csv', '/home/hjisaac/AI4Science/instanovo_instadeep/InstanovoGlyco/reports/csv/PXD044641/unique_peptides.csv', '/home/hjisaac/AI4Science/instanovo_instadeep/InstanovoGlyco/reports/csv/PXD044641/unique_modified_peptides.csv', '/home/hjisaac/AI4Science/instanovo_instadeep/InstanovoGlyco/reports/csv/PXD025859/unique_peptides.csv', '/home/hjisaac/AI4Science/instanovo_instadeep/InstanovoGlyco/reports/csv/PXD025859/unique_modified_peptides.csv', '/home/hjisaac/AI4Science/instanovo_instadeep/InstanovoGlyco/reports/csv/PXD035158/unique_peptides.csv', '/home/hjisaac/AI4Science/instanovo_instadeep/InstanovoGlyco/reports/csv/PXD035158/unique_modified_peptides.csv']\n"
     ]
    },
    {
     "data": {
      "text/plain": [
       "             Unique Peptides Unique Modified Peptides\n",
       "0                    HNGTGGR                      NaN\n",
       "1                 SQNCHNSSSR                      NaN\n",
       "2                   AAGMNHTK                      NaN\n",
       "3                 ANASHDQPQK                      NaN\n",
       "4                 HNDSGASECR                      NaN\n",
       "5   GGGGGGGGGGGGGSGSSSGSSTSR                      NaN\n",
       "6             RQQQQQQQQQQQQK                      NaN\n",
       "7              QQQQQQQQQQQQK                      NaN\n",
       "8                   KNDSGAYR                      NaN\n",
       "9                  KCLNHTTQK                      NaN\n",
       "10                  CLNHTTQK                      NaN\n",
       "11                 THANGSIKR                      NaN\n",
       "12              NGVNGTGENGRK                      NaN\n",
       "13                   HQNQTLR                      NaN\n",
       "14                  TLETHSNK                      NaN\n",
       "15         QQQQQQQQQQQHQQSNR                      NaN\n",
       "16                 CPTNNTCCK                      NaN\n",
       "17                 GENGTGPAK                      NaN\n",
       "18               ISQNCHNSSSR                      NaN\n",
       "19                 YSQAANSTK                      NaN"
      ],
      "text/html": [
       "<div>\n",
       "<style scoped>\n",
       "    .dataframe tbody tr th:only-of-type {\n",
       "        vertical-align: middle;\n",
       "    }\n",
       "\n",
       "    .dataframe tbody tr th {\n",
       "        vertical-align: top;\n",
       "    }\n",
       "\n",
       "    .dataframe thead th {\n",
       "        text-align: right;\n",
       "    }\n",
       "</style>\n",
       "<table border=\"1\" class=\"dataframe\">\n",
       "  <thead>\n",
       "    <tr style=\"text-align: right;\">\n",
       "      <th></th>\n",
       "      <th>Unique Peptides</th>\n",
       "      <th>Unique Modified Peptides</th>\n",
       "    </tr>\n",
       "  </thead>\n",
       "  <tbody>\n",
       "    <tr>\n",
       "      <th>0</th>\n",
       "      <td>HNGTGGR</td>\n",
       "      <td>NaN</td>\n",
       "    </tr>\n",
       "    <tr>\n",
       "      <th>1</th>\n",
       "      <td>SQNCHNSSSR</td>\n",
       "      <td>NaN</td>\n",
       "    </tr>\n",
       "    <tr>\n",
       "      <th>2</th>\n",
       "      <td>AAGMNHTK</td>\n",
       "      <td>NaN</td>\n",
       "    </tr>\n",
       "    <tr>\n",
       "      <th>3</th>\n",
       "      <td>ANASHDQPQK</td>\n",
       "      <td>NaN</td>\n",
       "    </tr>\n",
       "    <tr>\n",
       "      <th>4</th>\n",
       "      <td>HNDSGASECR</td>\n",
       "      <td>NaN</td>\n",
       "    </tr>\n",
       "    <tr>\n",
       "      <th>5</th>\n",
       "      <td>GGGGGGGGGGGGGSGSSSGSSTSR</td>\n",
       "      <td>NaN</td>\n",
       "    </tr>\n",
       "    <tr>\n",
       "      <th>6</th>\n",
       "      <td>RQQQQQQQQQQQQK</td>\n",
       "      <td>NaN</td>\n",
       "    </tr>\n",
       "    <tr>\n",
       "      <th>7</th>\n",
       "      <td>QQQQQQQQQQQQK</td>\n",
       "      <td>NaN</td>\n",
       "    </tr>\n",
       "    <tr>\n",
       "      <th>8</th>\n",
       "      <td>KNDSGAYR</td>\n",
       "      <td>NaN</td>\n",
       "    </tr>\n",
       "    <tr>\n",
       "      <th>9</th>\n",
       "      <td>KCLNHTTQK</td>\n",
       "      <td>NaN</td>\n",
       "    </tr>\n",
       "    <tr>\n",
       "      <th>10</th>\n",
       "      <td>CLNHTTQK</td>\n",
       "      <td>NaN</td>\n",
       "    </tr>\n",
       "    <tr>\n",
       "      <th>11</th>\n",
       "      <td>THANGSIKR</td>\n",
       "      <td>NaN</td>\n",
       "    </tr>\n",
       "    <tr>\n",
       "      <th>12</th>\n",
       "      <td>NGVNGTGENGRK</td>\n",
       "      <td>NaN</td>\n",
       "    </tr>\n",
       "    <tr>\n",
       "      <th>13</th>\n",
       "      <td>HQNQTLR</td>\n",
       "      <td>NaN</td>\n",
       "    </tr>\n",
       "    <tr>\n",
       "      <th>14</th>\n",
       "      <td>TLETHSNK</td>\n",
       "      <td>NaN</td>\n",
       "    </tr>\n",
       "    <tr>\n",
       "      <th>15</th>\n",
       "      <td>QQQQQQQQQQQHQQSNR</td>\n",
       "      <td>NaN</td>\n",
       "    </tr>\n",
       "    <tr>\n",
       "      <th>16</th>\n",
       "      <td>CPTNNTCCK</td>\n",
       "      <td>NaN</td>\n",
       "    </tr>\n",
       "    <tr>\n",
       "      <th>17</th>\n",
       "      <td>GENGTGPAK</td>\n",
       "      <td>NaN</td>\n",
       "    </tr>\n",
       "    <tr>\n",
       "      <th>18</th>\n",
       "      <td>ISQNCHNSSSR</td>\n",
       "      <td>NaN</td>\n",
       "    </tr>\n",
       "    <tr>\n",
       "      <th>19</th>\n",
       "      <td>YSQAANSTK</td>\n",
       "      <td>NaN</td>\n",
       "    </tr>\n",
       "  </tbody>\n",
       "</table>\n",
       "</div>"
      ]
     },
     "execution_count": 15,
     "metadata": {},
     "output_type": "execute_result"
    }
   ],
   "execution_count": 15
  },
  {
   "metadata": {},
   "cell_type": "code",
   "outputs": [],
   "execution_count": null,
   "source": "",
   "id": "e2dc4dc9354287ec"
  }
 ],
 "metadata": {
  "kernelspec": {
   "display_name": "Python 3",
   "language": "python",
   "name": "python3"
  },
  "language_info": {
   "codemirror_mode": {
    "name": "ipython",
    "version": 2
   },
   "file_extension": ".py",
   "mimetype": "text/x-python",
   "name": "python",
   "nbconvert_exporter": "python",
   "pygments_lexer": "ipython2",
   "version": "2.7.6"
  }
 },
 "nbformat": 4,
 "nbformat_minor": 5
}
