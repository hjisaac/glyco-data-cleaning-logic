{
 "cells": [
  {
   "metadata": {},
   "cell_type": "markdown",
   "source": "# Training Data Cleaning and Split",
   "id": "f5db04448fb9bbf2"
  },
  {
   "metadata": {
    "ExecuteTime": {
     "end_time": "2025-04-04T00:57:32.048949Z",
     "start_time": "2025-04-04T00:57:32.023004Z"
    }
   },
   "cell_type": "code",
   "source": [
    "import os\n",
    "import sys\n",
    "import logging\n",
    "import pandas as pd\n",
    "import seaborn as sns\n",
    "import matplotlib.pyplot as plt\n",
    "\n",
    "# Fix this later, imports should work without this\n",
    "sys.path.append(os.path.abspath(os.path.join(os.getcwd(), os.pardir)))\n",
    "\n",
    "\n",
    "from common.utils import collect_files, get_or_create_folder\n",
    "from common.logger import get_logger_config\n",
    "from common.constants import (\n",
    "    BASE_RAW_DATA_DIR,\n",
    "    BASE_LOGS_DIR,\n",
    "    BASE_PLOTS_DIR,\n",
    "    BASE_REPORTS_CSV_DIR,\n",
    ")"
   ],
   "id": "824372789e43b350",
   "outputs": [],
   "execution_count": 1
  },
  {
   "metadata": {
    "ExecuteTime": {
     "end_time": "2025-04-03T23:06:30.938378Z",
     "start_time": "2025-04-03T23:06:30.885370Z"
    }
   },
   "cell_type": "code",
   "source": [
    "logger_config = get_logger_config(subdir=None)\n",
    "logging.config.dictConfig(logger_config)\n",
    "logger = logging.getLogger(__name__)"
   ],
   "id": "6327fc30eea71db5",
   "outputs": [
    {
     "ename": "AssertionError",
     "evalue": "None",
     "output_type": "error",
     "traceback": [
      "\u001B[0;31m---------------------------------------------------------------------------\u001B[0m",
      "\u001B[0;31mAssertionError\u001B[0m                            Traceback (most recent call last)",
      "Cell \u001B[0;32mIn[61], line 1\u001B[0m\n\u001B[0;32m----> 1\u001B[0m logger_config \u001B[38;5;241m=\u001B[39m \u001B[43mget_logger_config\u001B[49m\u001B[43m(\u001B[49m\u001B[43msubdir\u001B[49m\u001B[38;5;241;43m=\u001B[39;49m\u001B[38;5;28;43;01mNone\u001B[39;49;00m\u001B[43m)\u001B[49m\n\u001B[1;32m      2\u001B[0m logging\u001B[38;5;241m.\u001B[39mconfig\u001B[38;5;241m.\u001B[39mdictConfig(logger_config)\n\u001B[1;32m      3\u001B[0m logger \u001B[38;5;241m=\u001B[39m logging\u001B[38;5;241m.\u001B[39mgetLogger(\u001B[38;5;18m__name__\u001B[39m)\n",
      "File \u001B[0;32m~/AI4Science/instanovo_instadeep/InstanovoGlyco/common/logger.py:6\u001B[0m, in \u001B[0;36mget_logger_config\u001B[0;34m(subdir)\u001B[0m\n\u001B[1;32m      4\u001B[0m \u001B[38;5;28;01mdef\u001B[39;00m\u001B[38;5;250m \u001B[39m\u001B[38;5;21mget_logger_config\u001B[39m(subdir: \u001B[38;5;28mstr\u001B[39m \u001B[38;5;241m=\u001B[39m \u001B[38;5;124m\"\u001B[39m\u001B[38;5;124m\"\u001B[39m) \u001B[38;5;241m-\u001B[39m\u001B[38;5;241m>\u001B[39m \u001B[38;5;28mdict\u001B[39m:\n\u001B[0;32m----> 6\u001B[0m     \u001B[38;5;28;01massert\u001B[39;00m subdir \u001B[38;5;129;01mis\u001B[39;00m \u001B[38;5;129;01mnot\u001B[39;00m \u001B[38;5;28;01mNone\u001B[39;00m, subdir\n\u001B[1;32m      8\u001B[0m     log_dir \u001B[38;5;241m=\u001B[39m BASE_LOGS_DIR \u001B[38;5;241m/\u001B[39m subdir\n\u001B[1;32m      9\u001B[0m     log_file \u001B[38;5;241m=\u001B[39m log_dir \u001B[38;5;241m/\u001B[39m \u001B[38;5;124mf\u001B[39m\u001B[38;5;124m\"\u001B[39m\u001B[38;5;124mapp.log\u001B[39m\u001B[38;5;124m\"\u001B[39m\n",
      "\u001B[0;31mAssertionError\u001B[0m: None"
     ]
    }
   ],
   "execution_count": 61
  },
  {
   "metadata": {},
   "cell_type": "markdown",
   "source": "## Remove entries with `precursor_charge` less than 2",
   "id": "48049adf02ad7cd8"
  },
  {
   "metadata": {},
   "cell_type": "markdown",
   "source": "## Check how do the peptides in the dataset here overlap the peptides from Kevin",
   "id": "2c05b148cc61ed33"
  },
  {
   "metadata": {
    "ExecuteTime": {
     "end_time": "2025-04-03T21:33:46.827396Z",
     "start_time": "2025-04-03T21:33:46.813725Z"
    }
   },
   "cell_type": "code",
   "source": "peptides_file_paths = collect_files(BASE_REPORTS_CSV_DIR, ext=\"csv\")\n",
   "id": "7378eb03df820149",
   "outputs": [],
   "execution_count": 11
  },
  {
   "metadata": {
    "ExecuteTime": {
     "end_time": "2025-04-03T21:58:29.341044Z",
     "start_time": "2025-04-03T21:58:29.218077Z"
    }
   },
   "cell_type": "code",
   "source": [
    "# TODO: Improve the `collect_files` function\n",
    "peptides_file_paths = [path for path in peptides_file_paths if \"unique_peptides\" in path]\n",
    "\n",
    "assert peptides_file_paths, peptides_file_paths\n",
    "# Grab all csv of interest but ATTENTION;\n",
    "# loading all many csv files will increase the computation time\n",
    "df = pd.concat([pd.read_csv(file) for file in peptides_file_paths], ignore_index=True)\n",
    "df.head(20)"
   ],
   "id": "f55befa653151e1b",
   "outputs": [
    {
     "data": {
      "text/plain": [
       "             Unique Peptides\n",
       "0                    HNGTGGR\n",
       "1                 SQNCHNSSSR\n",
       "2                   AAGMNHTK\n",
       "3                 ANASHDQPQK\n",
       "4                 HNDSGASECR\n",
       "5   GGGGGGGGGGGGGSGSSSGSSTSR\n",
       "6             RQQQQQQQQQQQQK\n",
       "7              QQQQQQQQQQQQK\n",
       "8                   KNDSGAYR\n",
       "9                  KCLNHTTQK\n",
       "10                  CLNHTTQK\n",
       "11                 THANGSIKR\n",
       "12              NGVNGTGENGRK\n",
       "13                   HQNQTLR\n",
       "14                  TLETHSNK\n",
       "15         QQQQQQQQQQQHQQSNR\n",
       "16                 CPTNNTCCK\n",
       "17                 GENGTGPAK\n",
       "18               ISQNCHNSSSR\n",
       "19                 YSQAANSTK"
      ],
      "text/html": [
       "<div>\n",
       "<style scoped>\n",
       "    .dataframe tbody tr th:only-of-type {\n",
       "        vertical-align: middle;\n",
       "    }\n",
       "\n",
       "    .dataframe tbody tr th {\n",
       "        vertical-align: top;\n",
       "    }\n",
       "\n",
       "    .dataframe thead th {\n",
       "        text-align: right;\n",
       "    }\n",
       "</style>\n",
       "<table border=\"1\" class=\"dataframe\">\n",
       "  <thead>\n",
       "    <tr style=\"text-align: right;\">\n",
       "      <th></th>\n",
       "      <th>Unique Peptides</th>\n",
       "    </tr>\n",
       "  </thead>\n",
       "  <tbody>\n",
       "    <tr>\n",
       "      <th>0</th>\n",
       "      <td>HNGTGGR</td>\n",
       "    </tr>\n",
       "    <tr>\n",
       "      <th>1</th>\n",
       "      <td>SQNCHNSSSR</td>\n",
       "    </tr>\n",
       "    <tr>\n",
       "      <th>2</th>\n",
       "      <td>AAGMNHTK</td>\n",
       "    </tr>\n",
       "    <tr>\n",
       "      <th>3</th>\n",
       "      <td>ANASHDQPQK</td>\n",
       "    </tr>\n",
       "    <tr>\n",
       "      <th>4</th>\n",
       "      <td>HNDSGASECR</td>\n",
       "    </tr>\n",
       "    <tr>\n",
       "      <th>5</th>\n",
       "      <td>GGGGGGGGGGGGGSGSSSGSSTSR</td>\n",
       "    </tr>\n",
       "    <tr>\n",
       "      <th>6</th>\n",
       "      <td>RQQQQQQQQQQQQK</td>\n",
       "    </tr>\n",
       "    <tr>\n",
       "      <th>7</th>\n",
       "      <td>QQQQQQQQQQQQK</td>\n",
       "    </tr>\n",
       "    <tr>\n",
       "      <th>8</th>\n",
       "      <td>KNDSGAYR</td>\n",
       "    </tr>\n",
       "    <tr>\n",
       "      <th>9</th>\n",
       "      <td>KCLNHTTQK</td>\n",
       "    </tr>\n",
       "    <tr>\n",
       "      <th>10</th>\n",
       "      <td>CLNHTTQK</td>\n",
       "    </tr>\n",
       "    <tr>\n",
       "      <th>11</th>\n",
       "      <td>THANGSIKR</td>\n",
       "    </tr>\n",
       "    <tr>\n",
       "      <th>12</th>\n",
       "      <td>NGVNGTGENGRK</td>\n",
       "    </tr>\n",
       "    <tr>\n",
       "      <th>13</th>\n",
       "      <td>HQNQTLR</td>\n",
       "    </tr>\n",
       "    <tr>\n",
       "      <th>14</th>\n",
       "      <td>TLETHSNK</td>\n",
       "    </tr>\n",
       "    <tr>\n",
       "      <th>15</th>\n",
       "      <td>QQQQQQQQQQQHQQSNR</td>\n",
       "    </tr>\n",
       "    <tr>\n",
       "      <th>16</th>\n",
       "      <td>CPTNNTCCK</td>\n",
       "    </tr>\n",
       "    <tr>\n",
       "      <th>17</th>\n",
       "      <td>GENGTGPAK</td>\n",
       "    </tr>\n",
       "    <tr>\n",
       "      <th>18</th>\n",
       "      <td>ISQNCHNSSSR</td>\n",
       "    </tr>\n",
       "    <tr>\n",
       "      <th>19</th>\n",
       "      <td>YSQAANSTK</td>\n",
       "    </tr>\n",
       "  </tbody>\n",
       "</table>\n",
       "</div>"
      ]
     },
     "execution_count": 17,
     "metadata": {},
     "output_type": "execute_result"
    }
   ],
   "execution_count": 17
  },
  {
   "metadata": {
    "ExecuteTime": {
     "end_time": "2025-04-03T22:29:38.929230Z",
     "start_time": "2025-04-03T22:29:38.808722Z"
    }
   },
   "cell_type": "code",
   "source": "df[\"Unique Peptides\"].describe()",
   "id": "53c60700c39c3767",
   "outputs": [
    {
     "data": {
      "text/plain": [
       "count                 73643\n",
       "unique                44976\n",
       "top       AVCMLSNTTAIAEAWAR\n",
       "freq                      8\n",
       "Name: Unique Peptides, dtype: object"
      ]
     },
     "execution_count": 41,
     "metadata": {},
     "output_type": "execute_result"
    }
   ],
   "execution_count": 41
  },
  {
   "metadata": {
    "ExecuteTime": {
     "end_time": "2025-04-03T22:50:34.739204Z",
     "start_time": "2025-04-03T22:50:34.629771Z"
    }
   },
   "cell_type": "code",
   "source": [
    "unique_peptides_df = df[\"Unique Peptides\"].unique()\n",
    "pd.DataFrame({\"Unique Peptides\": unique_peptides_df}).to_csv(BASE_REPORTS_CSV_DIR / f\"overall_projects_unique_peptides_counting_{df['Unique Peptides'].nunique()}.csv\", index=False)"
   ],
   "id": "e2dc4dc9354287ec",
   "outputs": [],
   "execution_count": 55
  },
  {
   "metadata": {},
   "cell_type": "markdown",
   "source": "### Overlap with peptides from identity files from Kevin",
   "id": "3cdc63d3fe941cba"
  },
  {
   "metadata": {
    "ExecuteTime": {
     "end_time": "2025-04-04T00:57:42.304478Z",
     "start_time": "2025-04-04T00:57:42.296253Z"
    }
   },
   "cell_type": "code",
   "source": [
    "def compute_and_save_overlap(file_path, reference_peptides):\n",
    "    reference_project_name=\"projects\"\n",
    "    file_path = BASE_REPORTS_CSV_DIR / file_path\n",
    "    df = pd.read_csv(file_path)\n",
    "    # Extract unique peptides from the 'sequence' column\n",
    "    unique_peptides = set(df[\"sequence\"].unique())\n",
    "    if isinstance(reference_peptides, str):\n",
    "        ref_path = BASE_REPORTS_CSV_DIR / reference_peptides\n",
    "        reference_project_name = ref_path.stem\n",
    "        reference_peptides = pd.read_csv(ref_path)[\"sequence\"].unique()\n",
    "    else:\n",
    "        reference_project_name = \"glyco_projects\"\n",
    "    # Compute overlap\n",
    "    overlap_peptides = set(reference_peptides) & set(unique_peptides)\n",
    "    print(f\"Overlap count = {len(overlap_peptides)}\")\n",
    "    # Save results\n",
    "    overlap_df = pd.DataFrame({\"Overlapped peptides\": list(overlap_peptides)})\n",
    "    output_file = BASE_REPORTS_CSV_DIR / (\n",
    "        f\"overlap_{file_path.stem}_{len(unique_peptides)}_with_{reference_project_name}_{len(reference_peptides)}_found_{len(overlap_peptides)}.csv\"\n",
    "    )\n",
    "    overlap_df.to_csv(output_file, index=False)\n",
    "    \n",
    "    print(f\"Saved: {output_file}\")"
   ],
   "id": "8c10b9cb7577fcd3",
   "outputs": [],
   "execution_count": 3
  },
  {
   "metadata": {
    "ExecuteTime": {
     "end_time": "2025-04-03T23:35:18.409479Z",
     "start_time": "2025-04-03T23:35:12.410870Z"
    }
   },
   "cell_type": "code",
   "source": [
    " # identity_splits_proteome_tools_from_kevin.csv\n",
    "identity_files_from_kevin = [\n",
    "    \"identity_splits_proteome_tools_from_kevin.csv\",\n",
    "    \"identity_splits_massivekb_from_kevin.csv\",\n",
    "    \"identity_splits_blacklist_from_kevin.csv\",\n",
    "    \"identity_splits_phospho_from_kevin.csv\",\n",
    "]\n",
    "\n",
    "for file_path in identity_files_from_kevin:\n",
    "    compute_and_save_overlap(file_path, unique_peptides_df)"
   ],
   "id": "9fdbb54fc64c2719",
   "outputs": [
    {
     "name": "stdout",
     "output_type": "stream",
     "text": [
      "                    sequence  split\n",
      "0                  YLQNWSHVL  train\n",
      "1                    GLPELRR  train\n",
      "2                   LLYNLFHK  train\n",
      "3                  CLQEEEDMR  train\n",
      "4               QPRPQSTSLLAL  train\n",
      "...                      ...    ...\n",
      "753910           YVDQVLQLVYK   test\n",
      "753911      GFSVVADTPELQRLKK   test\n",
      "753912              TSLPTPLR   test\n",
      "753913  SCTTDVRPLSGSRPVCPLCK   test\n",
      "753914             YAFNSLQLK   test\n",
      "\n",
      "[753915 rows x 2 columns]\n",
      "Saved: /home/hjisaac/AI4Science/instanovo_instadeep/InstanovoGlyco/reports/csv_misc/overlap_identity_splits_proteome_tools_from_kevin_753915_with_projects_44976_found_5491.csv\n",
      "                                   sequence  split\n",
      "0                       NTKEPPLSLTLHLTSPVVR  train\n",
      "1        MNLLPCNPHGNGLLYAGFNQDHGCFACGMENGFR  train\n",
      "2                               LNLFPDGGLAR  train\n",
      "3                                SGELAQEYDK  train\n",
      "4                             HLVLPVQPENALK  train\n",
      "...                                     ...    ...\n",
      "1608962                    QPVYYDELDAASSSLR  train\n",
      "1608963                              YESVMK  train\n",
      "1608964                       PSLLQEKPSTEGY  train\n",
      "1608965        GLLGNPLCSPEYWKPSTFGGEVGFNLVK  train\n",
      "1608966                     SVRFPNDVLFLDHLR  train\n",
      "\n",
      "[1608967 rows x 2 columns]\n",
      "Saved: /home/hjisaac/AI4Science/instanovo_instadeep/InstanovoGlyco/reports/csv_misc/overlap_identity_splits_massivekb_from_kevin_1114503_with_projects_44976_found_9890.csv\n",
      "                             sequence\n",
      "0                         YLSSQTERPVR\n",
      "1       TLKPTVPPLTPEQYELYMYREVDTLELTR\n",
      "2                       GDLNDCFLPCTPK\n",
      "3                      TVFQALRTVHQPSS\n",
      "4                          STVPVGTADR\n",
      "...                               ...\n",
      "248895           SCTTDVRPLSGSRPVCPLCK\n",
      "248896               EPVLVPTELGDLNGVK\n",
      "248897          DWLSAARVLVDGEEHVGFLKT\n",
      "248898                    QPELGEQALMK\n",
      "248899                    YTDVLPFDNNR\n",
      "\n",
      "[248900 rows x 1 columns]\n",
      "Saved: /home/hjisaac/AI4Science/instanovo_instadeep/InstanovoGlyco/reports/csv_misc/overlap_identity_splits_blacklist_from_kevin_248900_with_projects_44976_found_2411.csv\n",
      "                sequence  split\n",
      "0            KPSPAASPATK  train\n",
      "1          ETDGDHLSSLLNK  train\n",
      "2      GFSFVATGLMEDDGKPR  train\n",
      "3           SLQATLTPSAMK  train\n",
      "4        ADEPSTEESDLELDK  train\n",
      "...                  ...    ...\n",
      "72526   SPGVAAAVAEDGGLKK   test\n",
      "72527         AVSPTEPTPR   test\n",
      "72528        SGAVTFSSQGR   test\n",
      "72529          YAFNSLQLK   test\n",
      "72530            KCSLLDT   test\n",
      "\n",
      "[72531 rows x 2 columns]\n",
      "Saved: /home/hjisaac/AI4Science/instanovo_instadeep/InstanovoGlyco/reports/csv_misc/overlap_identity_splits_phospho_from_kevin_72531_with_projects_44976_found_1349.csv\n"
     ]
    }
   ],
   "execution_count": 79
  },
  {
   "metadata": {
    "ExecuteTime": {
     "end_time": "2025-04-04T00:57:51.001577Z",
     "start_time": "2025-04-04T00:57:48.525797Z"
    }
   },
   "cell_type": "code",
   "source": "compute_and_save_overlap(\"identity_splits_proteome_tools_from_kevin.csv\", \"identity_splits_blacklist_from_kevin.csv\")",
   "id": "6ba3e0b8b0805354",
   "outputs": [
    {
     "name": "stdout",
     "output_type": "stream",
     "text": [
      "                    sequence  split\n",
      "0                  YLQNWSHVL  train\n",
      "1                    GLPELRR  train\n",
      "2                   LLYNLFHK  train\n",
      "3                  CLQEEEDMR  train\n",
      "4               QPRPQSTSLLAL  train\n",
      "...                      ...    ...\n",
      "753910           YVDQVLQLVYK   test\n",
      "753911      GFSVVADTPELQRLKK   test\n",
      "753912              TSLPTPLR   test\n",
      "753913  SCTTDVRPLSGSRPVCPLCK   test\n",
      "753914             YAFNSLQLK   test\n",
      "\n",
      "[753915 rows x 2 columns]\n",
      "Overlap count = 75390\n",
      "Saved: /home/hjisaac/AI4Science/instanovo_instadeep/InstanovoGlyco/reports/csv_misc/overlap_identity_splits_proteome_tools_from_kevin_753915_with_identity_splits_blacklist_from_kevin_248900_found_75390.csv\n"
     ]
    }
   ],
   "execution_count": 4
  },
  {
   "metadata": {
    "ExecuteTime": {
     "end_time": "2025-04-04T00:57:37.619597Z",
     "start_time": "2025-04-04T00:57:37.603939Z"
    }
   },
   "cell_type": "code",
   "source": "BASE_REPORTS_CSV_DIR",
   "id": "e3d9fea197c2e119",
   "outputs": [
    {
     "data": {
      "text/plain": [
       "PosixPath('/home/hjisaac/AI4Science/instanovo_instadeep/InstanovoGlyco/reports/csv_misc')"
      ]
     },
     "execution_count": 2,
     "metadata": {},
     "output_type": "execute_result"
    }
   ],
   "execution_count": 2
  }
 ],
 "metadata": {
  "kernelspec": {
   "display_name": "Python 3",
   "language": "python",
   "name": "python3"
  },
  "language_info": {
   "codemirror_mode": {
    "name": "ipython",
    "version": 2
   },
   "file_extension": ".py",
   "mimetype": "text/x-python",
   "name": "python",
   "nbconvert_exporter": "python",
   "pygments_lexer": "ipython2",
   "version": "2.7.6"
  }
 },
 "nbformat": 4,
 "nbformat_minor": 5
}
