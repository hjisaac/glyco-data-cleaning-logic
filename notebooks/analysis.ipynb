{
 "cells": [
  {
   "cell_type": "markdown",
   "metadata": {},
   "source": "# Instanovo-Glyco Training Data Analysis"
  },
  {
   "cell_type": "code",
   "metadata": {
    "jupyter": {
     "is_executing": true
    }
   },
   "source": [
    "import os\n",
    "import sys\n",
    "import logging\n",
    "import itertools\n",
    "import numpy as np\n",
    "import pandas as pd\n",
    "import seaborn as sns\n",
    "import matplotlib.pyplot as plt\n",
    "\n",
    "# Fix this later, imports should work without this\n",
    "sys.path.append(os.path.abspath(os.path.join(os.getcwd(), os.pardir)))\n",
    "\n",
    "\n",
    "from common.utils import get_ipc_files, get_or_create_folder\n",
    "from common.logger import get_logger_config\n",
    "from common.constants import (\n",
    "    BASE_RAW_DATA_DIR,\n",
    "    BASE_LOGS_DIR,\n",
    "    BASE_PLOTS_DIR,\n",
    "    BASE_REPORTS_CSV_DIR,\n",
    ")"
   ],
   "outputs": [],
   "execution_count": null
  },
  {
   "cell_type": "code",
   "metadata": {
    "jupyter": {
     "is_executing": true
    }
   },
   "source": [
    "target_data = \"PXD035158\" # \"PXD025859\"\n",
    "artifacts_sub_dir = (BASE_RAW_DATA_DIR / target_data).as_posix().split(\"/\")[-1]\n",
    "logs_dir = get_or_create_folder(BASE_LOGS_DIR / artifacts_sub_dir)\n",
    "plots_dir = get_or_create_folder(BASE_PLOTS_DIR / artifacts_sub_dir)\n",
    "csv_dir = get_or_create_folder(BASE_REPORTS_CSV_DIR / artifacts_sub_dir)"
   ],
   "outputs": [],
   "execution_count": null
  },
  {
   "cell_type": "code",
   "metadata": {
    "jupyter": {
     "is_executing": true
    }
   },
   "source": [
    "logger_config = get_logger_config(subdir=artifacts_sub_dir)\n",
    "logging.config.dictConfig(logger_config)\n",
    "logger = logging.getLogger(__name__)\n",
    "plt.rcParams[\"font.family\"]\n",
    "logging.warning(\n",
    "    f\"Changing matplotlib font from {plt.rcParams['font.family']} to ['monospace']\"\n",
    ")\n",
    "plt.rcParams[\"font.family\"] = [\"monospace\"]"
   ],
   "outputs": [],
   "execution_count": null
  },
  {
   "metadata": {
    "jupyter": {
     "is_executing": true
    }
   },
   "cell_type": "code",
   "source": [
    "logger.info(\n",
    "    f\"Starting with artifacts subdir set to {artifacts_sub_dir}, log_dir set to {logs_dir} and plots_dir set to {plots_dir}\"\n",
    ")"
   ],
   "outputs": [],
   "execution_count": null
  },
  {
   "cell_type": "code",
   "metadata": {
    "jupyter": {
     "is_executing": true
    }
   },
   "source": [
    "def save_figure(filename, save_dir=plots_dir):\n",
    "    \"\"\"\n",
    "    Save the current figure to a file.\n",
    "\n",
    "    Args:\n",
    "    filename (str): The name of the file to save the figure to.\n",
    "    save_dir (str): The directory to save the figure in. Default to \"../reports/plots/{artifacts_sub_dir}\".\n",
    "    \"\"\"\n",
    "\n",
    "    extensions = [\".png\", \".jpg\", \".jpeg\", \".pdf\"]\n",
    "    name, extension = os.path.splitext(filename)\n",
    "    # We are defaulting the extension to \"pdf\"\n",
    "    extension = extension.lower() if extension else \".pdf\"\n",
    "\n",
    "    if extension not in extensions:\n",
    "        raise ValueError(\n",
    "            f\"Unknown extension {extension} from {filename}. Please choose one from {extensions}\"\n",
    "        )\n",
    "\n",
    "    save_path = os.path.join(save_dir, f\"{name}{extension}\")\n",
    "    plt.savefig(save_path, format=extension[1:], bbox_inches=\"tight\")\n",
    "    logger.info(f\"Saved plot to {save_path}\")"
   ],
   "outputs": [],
   "execution_count": null
  },
  {
   "cell_type": "code",
   "metadata": {
    "jupyter": {
     "is_executing": true
    }
   },
   "source": [
    "# Graphing functions go here\n",
    "def plot_x_y(\n",
    "    df, index, x_column, y_column, x_label=None, y_label=None, title=None, filename=None, save=True\n",
    "):\n",
    "    \"\"\"\n",
    "    Plot x and y arrays for a given line in the DataFrame using vertical lines.\n",
    "\n",
    "    Args:\n",
    "    df (pd.DataFrame): The DataFrame containing the data.\n",
    "    index (int): The index of the line to plot.\n",
    "    x_column (str): The name of the x column.\n",
    "    y_column (str): The name of the y column.\n",
    "    x_label (str): The label for the x-axis. If None, the x_column name is used.\n",
    "    y_label (str): The label for the y-axis. If None, the y_column name is used.\n",
    "    title (str): The title of the plot. If None, a default title is used.\n",
    "    filename (str): The filename to save the plot. If None, the plot is not saved.\n",
    "    \"\"\"\n",
    "    x_values = df.at[index, x_column]\n",
    "    y_values = df.at[index, y_column]\n",
    "    plt.figure(figsize=(10, 6))\n",
    "    plt.vlines(x_values, ymin=0, ymax=y_values, color=\"b\", alpha=0.7)\n",
    "    plt.scatter(x_values, y_values, color=\"b\")\n",
    "    x_label = x_label if x_label else x_column\n",
    "    y_label = y_label if y_label else y_column\n",
    "    title = title if title else f\"{x_label} vs. {y_label} for index {index}\"\n",
    "    plt.title(title)\n",
    "    plt.xlabel(x_label)\n",
    "    plt.ylabel(y_label)\n",
    "    plt.grid(True, alpha=0.3)\n",
    "    if save:\n",
    "        filename = filename or f\"{x_column}_vs_{y_column}_for_index_{index}_xy_plot\"\n",
    "        save_figure(filename)\n",
    "    plt.show()\n",
    "\n",
    "\n",
    "def plot_quantitative(\n",
    "    df, column, xlabel=None, ylabel=\"Frequency\", title=None, filename=None, save=True\n",
    "):\n",
    "    \"\"\"\n",
    "    Plot histogram and KDE for a quantitative (numeric) column.\n",
    "\n",
    "    Args:\n",
    "    df (pd.DataFrame): The DataFrame containing the data.\n",
    "    column (str): The column to plot.\n",
    "    label (str): The label to display on the plot. If None, the column name is used.\n",
    "    \"\"\"\n",
    "    xlabel = xlabel if xlabel else column\n",
    "    title = title if title else f\"Histogram and KDE for {xlabel}\"\n",
    "    plt.figure(figsize=(10, 6))\n",
    "    sns.histplot(df[column], kde=True)\n",
    "    plt.title(title)\n",
    "    plt.xlabel(xlabel)\n",
    "    plt.ylabel(ylabel)\n",
    "    plt.grid(True, alpha=0.2)\n",
    "    if save:\n",
    "        filename = filename or (column + \"_histogram\")\n",
    "        save_figure(filename=filename)\n",
    "    plt.show()\n",
    "\n",
    "\n",
    "def plot_qualitative(\n",
    "    df, column, xlabel=\"Count\", ylabel=None, title=None, top_n=20, filename=None, save=True\n",
    "):\n",
    "    \"\"\"\n",
    "    Plot bar plot for a qualitative (categorical) column.\n",
    "\n",
    "    Args:\n",
    "    df (pd.DataFrame): The DataFrame containing the data.\n",
    "    column (str): The column to plot.\n",
    "    label (str): The label to display on the plot. If None, the column name is used.\n",
    "    top_n (int): The number of top values to display.\n",
    "    \"\"\"\n",
    "    ylabel = ylabel if ylabel else column\n",
    "    title = (\n",
    "        title\n",
    "        if title\n",
    "        else (\n",
    "            f\"Top {top_n} most frequent values for {ylabel}\"\n",
    "            if top_n\n",
    "            else ylabel.capitalize()\n",
    "        )\n",
    "    )\n",
    "    top_values = df[column].value_counts().nlargest(top_n)\n",
    "    plt.figure(figsize=(10, 6))\n",
    "    sns.barplot(y=top_values.index, x=top_values.values)\n",
    "    plt.title(title)\n",
    "    plt.xlabel(xlabel)\n",
    "    plt.ylabel(ylabel)\n",
    "    plt.grid(True, alpha=0.2)\n",
    "    if save:\n",
    "        filename = filename or (column + \"_barplot\")\n",
    "        save_figure(filename=filename)\n",
    "    plt.show()\n",
    "\n",
    "\n",
    "def plot_x_y_bar(\n",
    "    df,\n",
    "    column,\n",
    "    count_column_name,\n",
    "    xlabel=\"Duplicate Count\",\n",
    "    ylabel=\"Column Combinations\",\n",
    "    title=\"Duplicate Counts for Different Column Combinations\",\n",
    "    xtick_rotation=45,\n",
    "    filename=None,\n",
    "    save=True,\n",
    "):\n",
    "    \"\"\"\n",
    "    Generates a horizontal bar plot for duplicate counts of column combinations.\n",
    "\n",
    "    Parameters:\n",
    "    - results_df: pandas DataFrame containing the data.\n",
    "    - column_name: str, the column name for the combinations to be plotted.\n",
    "    - count_name: str, the column name for the duplicate counts to be plotted.\n",
    "    - xlabel: str, label for the x-axis (default is \"Duplicate Count\").\n",
    "    - ylabel: str, label for the y-axis (default is \"Column Combinations\").\n",
    "    - title: str, the title of the plot (default is \"Duplicate Counts for Different Column Combinations\").\n",
    "    - xtick_rotation: int, angle to rotate x-axis ticks (default is 45).\n",
    "    \"\"\"\n",
    "    plt.figure(\n",
    "        figsize=(12, max(6, len(df) * 0.3))\n",
    "    )  # Adjust height dynamically based on the number of rows\n",
    "    plt.barh(\n",
    "        df[column],\n",
    "        df[count_column_name],\n",
    "    )\n",
    "    plt.xlabel(xlabel)\n",
    "    plt.ylabel(ylabel)\n",
    "    plt.title(title)\n",
    "    plt.xticks(rotation=xtick_rotation)\n",
    "    plt.tight_layout()  # Prevent overlapping\n",
    "    plt.grid(True, alpha=0.4)\n",
    "    plt.gca().invert_yaxis()\n",
    "    if save:\n",
    "        filename = filename or (column + \"_based_duplicates_count_barplot\")\n",
    "        save_figure(filename=filename)\n",
    "    plt.show()"
   ],
   "outputs": [],
   "execution_count": null
  },
  {
   "cell_type": "code",
   "metadata": {
    "jupyter": {
     "is_executing": true
    }
   },
   "source": [
    "# Grab all ipc files of interest but ATTENTION;\n",
    "# loading all many ipc files will increase the computation time\n",
    "ipc_files = get_ipc_files(BASE_RAW_DATA_DIR / target_data)\n",
    "df = pd.concat([pd.read_feather(file) for file in ipc_files], ignore_index=True)\n",
    "df.head(20)"
   ],
   "outputs": [],
   "execution_count": null
  },
  {
   "cell_type": "markdown",
   "metadata": {},
   "source": [
    "## Columns description\n",
    "\n",
    "| **Field**               | **Description**                                                                                   |\n",
    "|--------------------------|---------------------------------------------------------------------------------------------------|\n",
    "| `index`                 | A unique identifier for each entry in the dataset.                                                |\n",
    "| `scan`                  | The scan number corresponding to the acquisition of the mass spectrum.                            |\n",
    "| `header`                | Additional metadata about the scan, such as file source or retention time.                        |\n",
    "| `rt` (Retention Time)   | The time it takes for the peptide to travel through the chromatographic column.                   |\n",
    "| `frag_type`             | The type of fragmentation used (e.g., CID, HCD, ETD).                                             |\n",
    "| `collision_energy`      | The energy applied to fragment precursor ions.                                                    |\n",
    "| `precursor_mz`          | The mass-to-charge ratio (\\(m/z\\)) of the precursor ion before fragmentation.                     |\n",
    "| `precursor_charge`      | The charge state of the precursor ion (e.g., +2, +3).                                             |\n",
    "| `precursor_intensity`   | The intensity of the precursor ion signal, reflecting its abundance.                              |\n",
    "| `lower_offset`          | The lower bound of the \\(m/z\\) window for isolating the precursor ion.                            |\n",
    "| `upper_offset`          | The upper bound of the \\(m/z\\) window for isolating the precursor ion.                            |\n",
    "| `isolation_target`      | The target \\(m/z\\) value for isolating the precursor ion.                                         |\n",
    "| `mz`                   | The mass-to-charge ratio (\\(m/z\\)) of ions detected in the spectrum.                              |\n",
    "| `intensity`             | The intensity of ions detected in the spectrum, reflecting their abundance.                       |\n",
    "| `scale_factor`          | A scaling factor applied to intensities for normalization.                                        |\n",
    "| `peptide`               | The sequence of the identified peptide, without modifications.                                    |\n",
    "| `modified_peptide`      | The sequence of the peptide with post-translational modifications (e.g., glycosylation).          |\n",
    "| `peptide_observed_mz`   | The observed \\(m/z\\) of the peptide in the spectrum.                                              |\n",
    "| `peptide_calc_mz`       | The theoretical \\(m/z\\) of the peptide based on its sequence and modifications.                   |\n",
    "| `delta_mass`            | The difference between observed and calculated mass, indicating potential modifications or errors. |\n",
    "| `retention`             | The retention time of the peptide, used for identification confirmation.                          |\n",
    "| `expectation`           | A statistical value (e.g., E-value) indicating the reliability of peptide identification.          |\n",
    "| `hyperscore`            | A confidence score for peptide identification (e.g., from Mascot or Sequest).                     |\n",
    "| `nextscore`             | An additional confidence score for peptide identification.                                        |\n",
    "| `probability`           | The probability that the peptide identification is correct.                                       |\n",
    "| `auc_intensity`         | The area under the curve (AUC) of the signal intensity, used for quantification.                  |\n",
    "| `protein`               | The protein to which the peptide belongs, identified from a database.                             |"
   ]
  },
  {
   "cell_type": "code",
   "metadata": {
    "jupyter": {
     "is_executing": true
    }
   },
   "source": [
    "df.info()"
   ],
   "outputs": [],
   "execution_count": null
  },
  {
   "metadata": {
    "jupyter": {
     "is_executing": true
    }
   },
   "cell_type": "code",
   "source": "df[[\"mz\"]].iloc[0].mz",
   "outputs": [],
   "execution_count": null
  },
  {
   "cell_type": "code",
   "metadata": {
    "jupyter": {
     "is_executing": true
    }
   },
   "source": [
    "highly_relevant_columns = [\n",
    "    \"peptide\",\n",
    "    \"modified_peptide\",\n",
    "    \"precursor_mz\",\n",
    "    \"precursor_charge\",\n",
    "    \"mz\",\n",
    "    \"intensity\",\n",
    "    \"rt\",\n",
    "    \"delta_mass\",\n",
    "    \"protein\",\n",
    "]\n",
    "\n",
    "moderatly_relevant_columns = [\n",
    "    \"scan\",\n",
    "    \"header\",\n",
    "    \"frag_type\",\n",
    "    \"collision_energy\",\n",
    "    \"precursor_intensity\",\n",
    "    \"peptide_observed_mz\",\n",
    "    \"peptide_calc_mz\",\n",
    "    \"auc_intensity\",\n",
    "]\n",
    "\n",
    "less_relevant_columns = [\n",
    "    \"index\",\n",
    "    \"lower_offset\",\n",
    "    \"upper_offset\",\n",
    "    \"isolation_target\",\n",
    "    \"scale_factor\",\n",
    "    \"expectation\",\n",
    "    \"hyperscore\",\n",
    "    \"nextscore\",\n",
    "]"
   ],
   "outputs": [],
   "execution_count": null
  },
  {
   "metadata": {},
   "cell_type": "markdown",
   "source": "### Recap statistics for relevant and less relevant columns"
  },
  {
   "metadata": {
    "jupyter": {
     "is_executing": true
    }
   },
   "cell_type": "code",
   "source": [
    "df_described = df[highly_relevant_columns].describe()\n",
    "df_described.to_csv(csv_dir / \"highly_relevant_columns_described_df.csv\", index=False)\n",
    "df_described"
   ],
   "outputs": [],
   "execution_count": null
  },
  {
   "metadata": {
    "jupyter": {
     "is_executing": true
    }
   },
   "cell_type": "code",
   "source": [
    "df_described = df[moderatly_relevant_columns].describe()\n",
    "df_described.to_csv(\n",
    "    csv_dir / \"moderatly_relevant_columns_described_df.csv\", index=False\n",
    ")\n",
    "df_described"
   ],
   "outputs": [],
   "execution_count": null
  },
  {
   "metadata": {
    "jupyter": {
     "is_executing": true
    }
   },
   "cell_type": "code",
   "source": [
    "df_described = df[less_relevant_columns].describe()\n",
    "df_described.to_csv(csv_dir / \"less_relevant_columns_described_df.csv\", index=False)\n",
    "df_described"
   ],
   "outputs": [],
   "execution_count": null
  },
  {
   "metadata": {},
   "cell_type": "markdown",
   "source": "### Duplicate investigation"
  },
  {
   "metadata": {
    "jupyter": {
     "is_executing": true
    }
   },
   "cell_type": "code",
   "source": [
    "# Save unique peptides as a single-column CSV\n",
    "pd.DataFrame({\"Unique Peptides\": df[\"peptide\"].unique()}).to_csv(csv_dir / \"unique_peptides.csv\", index=False)\n",
    "\n",
    "# Save unique modified peptides as a single-column CSV\n",
    "pd.DataFrame({\"Unique Modified Peptides\": df[\"modified_peptide\"].unique()}).to_csv(csv_dir / \"unique_modified_peptides.csv\", index=False)"
   ],
   "outputs": [],
   "execution_count": null
  },
  {
   "metadata": {
    "jupyter": {
     "is_executing": true
    }
   },
   "cell_type": "code",
   "source": [
    "# Investigate duplicates\n",
    "# assert False, \"This code block may take minutes to complete; Do you really want to run this code?, If yes, then disable this assertion.\"\n",
    "logger.info(\"Start replacing list or np.ndarray with tuples for internal comparison purposes\")\n",
    "\n",
    "def list_to_tuple_func(value):\n",
    "    logger.info(f\"Transforming {value[:3]} to tuple\")\n",
    "    if isinstance(value, (np.ndarray, list)):\n",
    "        return tuple(value)\n",
    "    return value\n",
    "\n",
    "\n",
    "for column in (\"mz\", \"intensity\"):\n",
    "\n",
    "    # Convert array-like values in the specified columns to tuples. Using\n",
    "    # another new column will make use of a lot of memory. So, let's just\n",
    "    # overwrite the values in the specified column.\n",
    "    logger.info(\n",
    "        f\"Start list replacement for column {column}\"\n",
    "    )\n",
    "    df[column] = df[column].apply(\n",
    "        list_to_tuple_func\n",
    "    )\n",
    "logger.info(\"Finish replacing list or np.ndarray with tuples\")\n",
    "# List of columns to consider\n",
    "columns_to_check = [\n",
    "    \"peptide\",\n",
    "    \"modified_peptide\",\n",
    "    \"precursor_mz\",\n",
    "    \"precursor_charge\",\n",
    "    \"mz\",\n",
    "    \"intensity\",\n",
    "    # \"delta_mass\",\n",
    "    # \"protein\",\n",
    "]\n",
    "\n",
    "\n",
    "# Function to generate aligned labels\n",
    "def format_label(columns_in_combination):\n",
    "    formatted = []\n",
    "    for col in columns_to_check:\n",
    "        if col in columns_in_combination:\n",
    "            formatted.append(col.ljust(len(col)))  # Keep column name\n",
    "        else:\n",
    "            formatted.append(\" \" * len(col))  # Add spaces of equal width\n",
    "    return \", \".join(formatted)  # Use separator for clarity\n",
    "\n",
    "\n",
    "# Initialize a list to store results\n",
    "results = []\n",
    "\n",
    "# Iterate through each combination of column sizes (1-combinaison, 2-combinaison, etc.)\n",
    "for size in range(1, len(columns_to_check) + 1):\n",
    "    for comb in itertools.combinations(columns_to_check, size):\n",
    "        # Count duplicates for the current combination of columns\n",
    "        duplicate_count = df[list(comb)].duplicated().sum()\n",
    "        # FIXME: Here .debug should be used\n",
    "        logger.info(f\"Combination size: {size}, duplicate count: {duplicate_count}, combinations: {comb}\")\n",
    "        # Store the result as a tuple of (combination, duplicate_count)\n",
    "        results.append(\n",
    "            {\"columns\": format_label(comb), \"duplicate_count\": duplicate_count}\n",
    "        )\n",
    "\n",
    "# Convert results into a DataFrame\n",
    "results_df = pd.DataFrame(results)\n",
    "\n",
    "# Print the DataFrame with duplicate counts\n",
    "print(results_df)\n",
    "\n",
    "# Plotting the results\n",
    "plot_x_y_bar(\n",
    "    results_df,\n",
    "    \"columns\",\n",
    "    \"duplicate_count\",\n",
    "    xlabel=\"Count of duplicates\",\n",
    "    ylabel=\"Column combinations\",\n",
    "    title=\"Duplicate counts for different column combinations\",\n",
    "    xtick_rotation=45,\n",
    ")"
   ],
   "outputs": [],
   "execution_count": null
  },
  {
   "metadata": {
    "jupyter": {
     "is_executing": true
    }
   },
   "cell_type": "code",
   "source": [
    "# Access the mz and intensity of the most abundant peptide and modification\n",
    "pd.DataFrame({\"Unique Peptides\": df[\"peptide\"].unique()}).to_csv(csv_dir / \"unique_peptides.csv\", index=False)\n",
    "\n",
    "# Save unique modified peptides as a single-column CSV\n",
    "pd.DataFrame({\"Unique Modified Peptides\": df[\"modified_peptide\"].unique()}).to_csv(csv_dir / \"unique_modified_peptides.csv\", index=False)\n",
    "# most_abundant_rows.head()\n"
   ],
   "outputs": [],
   "execution_count": null
  },
  {
   "metadata": {
    "jupyter": {
     "is_executing": true
    }
   },
   "cell_type": "code",
   "source": "",
   "outputs": [],
   "execution_count": null
  },
  {
   "cell_type": "code",
   "metadata": {
    "jupyter": {
     "is_executing": true
    }
   },
   "source": [
    "plot_qualitative(df, \"modified_peptide\", \"Modified peptides\")\n",
    "plot_qualitative(df, \"peptide\", \"Peptide\")\n",
    "plot_qualitative(df, \"protein\", \"Proteins\")"
   ],
   "outputs": [],
   "execution_count": null
  },
  {
   "cell_type": "code",
   "metadata": {
    "jupyter": {
     "is_executing": true
    }
   },
   "source": [
    "plot_quantitative(df, \"precursor_mz\", xlabel=\"Precursor m/z\")\n",
    "plot_quantitative(df, \"precursor_charge\", xlabel=\"Precursor charge\")\n",
    "plot_quantitative(df, \"delta_mass\", xlabel=\"Delta mass\")"
   ],
   "outputs": [],
   "execution_count": null
  },
  {
   "cell_type": "code",
   "metadata": {
    "jupyter": {
     "is_executing": true
    }
   },
   "source": [
    "peptide_index = 0\n",
    "plot_x_y(\n",
    "    df,\n",
    "    peptide_index,\n",
    "    \"mz\",\n",
    "    \"intensity\",\n",
    "    \"m/z\",\n",
    "    \"Intensity\",\n",
    "    title=f'm/z vs. Intensity for peptide {df.iloc[peptide_index][\"peptide\"]}',\n",
    ")"
   ],
   "outputs": [],
   "execution_count": null
  },
  {
   "cell_type": "code",
   "metadata": {
    "jupyter": {
     "is_executing": true
    }
   },
   "source": "",
   "outputs": [],
   "execution_count": null
  },
  {
   "cell_type": "markdown",
   "metadata": {},
   "source": [
    "## PTMs identification"
   ]
  },
  {
   "metadata": {},
   "cell_type": "markdown",
   "source": "The scripts `scripts/identify_ptms` helps in identifying ptms."
  }
 ],
 "metadata": {
  "kernelspec": {
   "display_name": "instanovoglyco-u5tn6RZG-py3.10",
   "language": "python",
   "name": "python3"
  },
  "language_info": {
   "codemirror_mode": {
    "name": "ipython",
    "version": 3
   },
   "file_extension": ".py",
   "mimetype": "text/x-python",
   "name": "python",
   "nbconvert_exporter": "python",
   "pygments_lexer": "ipython3",
   "version": "3.10.12"
  }
 },
 "nbformat": 4,
 "nbformat_minor": 2
}
