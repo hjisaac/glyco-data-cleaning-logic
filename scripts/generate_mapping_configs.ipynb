{
 "cells": [
  {
   "cell_type": "code",
   "id": "initial_id",
   "metadata": {
    "collapsed": true,
    "ExecuteTime": {
     "end_time": "2025-03-31T02:57:40.940550Z",
     "start_time": "2025-03-31T02:57:40.897366Z"
    }
   },
   "source": [
    "import os\n",
    "import re\n",
    "import sys\n",
    "import yaml\n",
    "import json\n",
    "\n",
    "# https://stackoverflow.com/questions/17935130/which-module-should-contain-logging-config-dictconfigmy-dictionary-what-about\n",
    "import logging.config  # noqa\n",
    "import pandas as pd\n",
    "\n",
    "# Temporary fix for imports, investigate later\n",
    "sys.path.append(os.path.abspath(os.path.join(os.getcwd(), os.pardir)))\n",
    "from common.utils import get_ipc_files, get_timestamp\n",
    "from common.constants import BASE_RAW_DATA_DIR, BASE_PTMS_DIR\n",
    "from common.logger import get_logger_config"
   ],
   "outputs": [],
   "execution_count": 13
  },
  {
   "metadata": {
    "ExecuteTime": {
     "end_time": "2025-03-31T02:57:40.971859Z",
     "start_time": "2025-03-31T02:57:40.949905Z"
    }
   },
   "cell_type": "code",
   "source": [
    "logger_config = get_logger_config(subdir=\"scripts\")\n",
    "logging.config.dictConfig(logger_config)\n",
    "logger = logging.getLogger(__name__)\n",
    "logger.setLevel(logging.DEBUG)"
   ],
   "id": "f165f21932f82002",
   "outputs": [],
   "execution_count": 14
  },
  {
   "metadata": {
    "ExecuteTime": {
     "end_time": "2025-03-31T02:57:41.106949Z",
     "start_time": "2025-03-31T02:57:40.978135Z"
    }
   },
   "cell_type": "code",
   "source": [
    "df = pd.read_csv(BASE_PTMS_DIR / \"identified_ptms_annotated.csv\")\n",
    "df.head(5)"
   ],
   "id": "ff1a3935b953f0fb",
   "outputs": [
    {
     "data": {
      "text/plain": [
       "  amino_acid  glycan_mass project_name                 file_name  spectrum_id  \\\n",
       "0          N         1493    PXD026629  20180904YLJ-VSV4h-02.ipc         4558   \n",
       "1          N         1493    PXD026629  20180904YLJ-VSV4h-02.ipc         7340   \n",
       "2          N         1493    PXD026629  20180904YLJ-VSV4h-02.ipc         8650   \n",
       "3          N         1493    PXD026629  20180904YLJ-VSV4h-02.ipc         8903   \n",
       "4          N         1493    PXD026629  20180904YLJ-VSV4h-02.ipc         9178   \n",
       "\n",
       "   ipc_index modified_peptide               assigned_mod  \\\n",
       "0          0    HN[1493]GTGGR              2N(1378.4757)   \n",
       "1         29   AAGMN[1493]HTK              5N(1378.4757)   \n",
       "2         42  KCLN[1493]HTTQK  2C(57.0215),4N(1378.4757)   \n",
       "3         51   CLN[1493]HTTQK  1C(57.0215),3N(1378.4757)   \n",
       "4         75    HQN[1493]QTLR              3N(1378.4757)   \n",
       "\n",
       "                                         observed_mz  \\\n",
       "0                                                NaN   \n",
       "1  Mod1: Unannotated mass-shift 1379.5092 (PeakAp...   \n",
       "2  Mod1: Hex(6) HexNAc(2) (PeakApex: 1378.4760, T...   \n",
       "3  Mod1: Hex(6) HexNAc(2) (PeakApex: 1378.4760, T...   \n",
       "4  Mod1: Hex(6) HexNAc(2) (PeakApex: 1378.4760, T...   \n",
       "\n",
       "                   composition  unimod accession proposed encoding  \n",
       "0  HexNAc(2)Hex(6) % 1378.4757            1465.0     [UNIMOD:1465]  \n",
       "1  HexNAc(2)Hex(6) % 1378.4757               NaN     [UNIMOD:1465]  \n",
       "2  HexNAc(2)Hex(6) % 1378.4757               NaN     [UNIMOD:1465]  \n",
       "3  HexNAc(2)Hex(6) % 1378.4757               NaN     [UNIMOD:1465]  \n",
       "4  HexNAc(2)Hex(6) % 1378.4757               NaN     [UNIMOD:1465]  "
      ],
      "text/html": [
       "<div>\n",
       "<style scoped>\n",
       "    .dataframe tbody tr th:only-of-type {\n",
       "        vertical-align: middle;\n",
       "    }\n",
       "\n",
       "    .dataframe tbody tr th {\n",
       "        vertical-align: top;\n",
       "    }\n",
       "\n",
       "    .dataframe thead th {\n",
       "        text-align: right;\n",
       "    }\n",
       "</style>\n",
       "<table border=\"1\" class=\"dataframe\">\n",
       "  <thead>\n",
       "    <tr style=\"text-align: right;\">\n",
       "      <th></th>\n",
       "      <th>amino_acid</th>\n",
       "      <th>glycan_mass</th>\n",
       "      <th>project_name</th>\n",
       "      <th>file_name</th>\n",
       "      <th>spectrum_id</th>\n",
       "      <th>ipc_index</th>\n",
       "      <th>modified_peptide</th>\n",
       "      <th>assigned_mod</th>\n",
       "      <th>observed_mz</th>\n",
       "      <th>composition</th>\n",
       "      <th>unimod accession</th>\n",
       "      <th>proposed encoding</th>\n",
       "    </tr>\n",
       "  </thead>\n",
       "  <tbody>\n",
       "    <tr>\n",
       "      <th>0</th>\n",
       "      <td>N</td>\n",
       "      <td>1493</td>\n",
       "      <td>PXD026629</td>\n",
       "      <td>20180904YLJ-VSV4h-02.ipc</td>\n",
       "      <td>4558</td>\n",
       "      <td>0</td>\n",
       "      <td>HN[1493]GTGGR</td>\n",
       "      <td>2N(1378.4757)</td>\n",
       "      <td>NaN</td>\n",
       "      <td>HexNAc(2)Hex(6) % 1378.4757</td>\n",
       "      <td>1465.0</td>\n",
       "      <td>[UNIMOD:1465]</td>\n",
       "    </tr>\n",
       "    <tr>\n",
       "      <th>1</th>\n",
       "      <td>N</td>\n",
       "      <td>1493</td>\n",
       "      <td>PXD026629</td>\n",
       "      <td>20180904YLJ-VSV4h-02.ipc</td>\n",
       "      <td>7340</td>\n",
       "      <td>29</td>\n",
       "      <td>AAGMN[1493]HTK</td>\n",
       "      <td>5N(1378.4757)</td>\n",
       "      <td>Mod1: Unannotated mass-shift 1379.5092 (PeakAp...</td>\n",
       "      <td>HexNAc(2)Hex(6) % 1378.4757</td>\n",
       "      <td>NaN</td>\n",
       "      <td>[UNIMOD:1465]</td>\n",
       "    </tr>\n",
       "    <tr>\n",
       "      <th>2</th>\n",
       "      <td>N</td>\n",
       "      <td>1493</td>\n",
       "      <td>PXD026629</td>\n",
       "      <td>20180904YLJ-VSV4h-02.ipc</td>\n",
       "      <td>8650</td>\n",
       "      <td>42</td>\n",
       "      <td>KCLN[1493]HTTQK</td>\n",
       "      <td>2C(57.0215),4N(1378.4757)</td>\n",
       "      <td>Mod1: Hex(6) HexNAc(2) (PeakApex: 1378.4760, T...</td>\n",
       "      <td>HexNAc(2)Hex(6) % 1378.4757</td>\n",
       "      <td>NaN</td>\n",
       "      <td>[UNIMOD:1465]</td>\n",
       "    </tr>\n",
       "    <tr>\n",
       "      <th>3</th>\n",
       "      <td>N</td>\n",
       "      <td>1493</td>\n",
       "      <td>PXD026629</td>\n",
       "      <td>20180904YLJ-VSV4h-02.ipc</td>\n",
       "      <td>8903</td>\n",
       "      <td>51</td>\n",
       "      <td>CLN[1493]HTTQK</td>\n",
       "      <td>1C(57.0215),3N(1378.4757)</td>\n",
       "      <td>Mod1: Hex(6) HexNAc(2) (PeakApex: 1378.4760, T...</td>\n",
       "      <td>HexNAc(2)Hex(6) % 1378.4757</td>\n",
       "      <td>NaN</td>\n",
       "      <td>[UNIMOD:1465]</td>\n",
       "    </tr>\n",
       "    <tr>\n",
       "      <th>4</th>\n",
       "      <td>N</td>\n",
       "      <td>1493</td>\n",
       "      <td>PXD026629</td>\n",
       "      <td>20180904YLJ-VSV4h-02.ipc</td>\n",
       "      <td>9178</td>\n",
       "      <td>75</td>\n",
       "      <td>HQN[1493]QTLR</td>\n",
       "      <td>3N(1378.4757)</td>\n",
       "      <td>Mod1: Hex(6) HexNAc(2) (PeakApex: 1378.4760, T...</td>\n",
       "      <td>HexNAc(2)Hex(6) % 1378.4757</td>\n",
       "      <td>NaN</td>\n",
       "      <td>[UNIMOD:1465]</td>\n",
       "    </tr>\n",
       "  </tbody>\n",
       "</table>\n",
       "</div>"
      ]
     },
     "execution_count": 15,
     "metadata": {},
     "output_type": "execute_result"
    }
   ],
   "execution_count": 15
  },
  {
   "metadata": {
    "ExecuteTime": {
     "end_time": "2025-03-31T02:57:41.113702Z",
     "start_time": "2025-03-31T02:57:41.108778Z"
    }
   },
   "cell_type": "code",
   "source": [
    "residue_remapping_config = {}\n",
    "residue_mass_mapping_config = {}"
   ],
   "id": "6b056fe72343836a",
   "outputs": [],
   "execution_count": 16
  },
  {
   "metadata": {
    "ExecuteTime": {
     "end_time": "2025-03-31T02:57:41.129514Z",
     "start_time": "2025-03-31T02:57:41.117415Z"
    }
   },
   "cell_type": "code",
   "source": "df.columns",
   "id": "4bbab7838c8bbdab",
   "outputs": [
    {
     "data": {
      "text/plain": [
       "Index(['amino_acid', 'glycan_mass', 'project_name', 'file_name', 'spectrum_id',\n",
       "       'ipc_index', 'modified_peptide', 'assigned_mod', 'observed_mz',\n",
       "       'composition', 'unimod accession', 'proposed encoding'],\n",
       "      dtype='object')"
      ]
     },
     "execution_count": 17,
     "metadata": {},
     "output_type": "execute_result"
    }
   ],
   "execution_count": 17
  },
  {
   "metadata": {
    "ExecuteTime": {
     "end_time": "2025-03-31T02:57:41.148668Z",
     "start_time": "2025-03-31T02:57:41.131260Z"
    }
   },
   "cell_type": "code",
   "source": [
    "df = df.rename(\n",
    "    columns={\n",
    "        \"unimod accession\": \"unimod_accession\",\n",
    "        \"proposed encoding\": \"proposed_encoding\",\n",
    "    }\n",
    ")\n",
    "df.columns"
   ],
   "id": "6f7d98cdf63fa9b5",
   "outputs": [
    {
     "data": {
      "text/plain": [
       "Index(['amino_acid', 'glycan_mass', 'project_name', 'file_name', 'spectrum_id',\n",
       "       'ipc_index', 'modified_peptide', 'assigned_mod', 'observed_mz',\n",
       "       'composition', 'unimod_accession', 'proposed_encoding'],\n",
       "      dtype='object')"
      ]
     },
     "execution_count": 18,
     "metadata": {},
     "output_type": "execute_result"
    }
   ],
   "execution_count": 18
  },
  {
   "metadata": {
    "ExecuteTime": {
     "end_time": "2025-03-31T02:57:41.215018Z",
     "start_time": "2025-03-31T02:57:41.150793Z"
    }
   },
   "cell_type": "code",
   "source": [
    "previous_ptm = None\n",
    "for sequence_object in df.itertuples(name=\"SequenceObject\"):\n",
    "    if previous_ptm == (sequence_object.amino_acid, sequence_object.glycan_mass):\n",
    "        # We're still on the same modification\n",
    "        continue\n",
    "\n",
    "    # Get the UNIMOD encoding\n",
    "    proposed_encoding = (\n",
    "        f\"{sequence_object.amino_acid}{sequence_object.proposed_encoding}\"\n",
    "    )\n",
    "    residue_remapping_config[\n",
    "        f\"{sequence_object.amino_acid}[{sequence_object.glycan_mass}]\"\n",
    "    ] = proposed_encoding\n",
    "    try:\n",
    "        residue_mass_mapping_config[proposed_encoding] = float(\n",
    "            sequence_object.composition.split(\"%\")[-1]\n",
    "        )\n",
    "    except AttributeError as exc:\n",
    "        logger.error(exc.args[0], exc_info=exc)\n",
    "        residue_mass_mapping_config[proposed_encoding] = \"N/A\"\n",
    "    previous_ptm = (sequence_object.amino_acid, sequence_object.glycan_mass)\n",
    "\n",
    "with open(BASE_PTMS_DIR / \"residue_remapping_config.yaml\", \"w\") as yaml_file, open(\n",
    "    BASE_PTMS_DIR / \"residue_remapping_config.json\", \"w\"\n",
    ") as json_file:\n",
    "    yaml.dump(residue_remapping_config, yaml_file, default_flow_style=False)\n",
    "    json.dump(residue_remapping_config, json_file, indent=4)\n",
    "\n",
    "with open(BASE_PTMS_DIR / \"residue_mass_mapping_config.yaml\", \"w\") as yaml_file, open(\n",
    "    BASE_PTMS_DIR / \"residue_mass_mapping_config.json\", \"w\"\n",
    ") as json_file:\n",
    "    yaml.dump(residue_mass_mapping_config, yaml_file, default_flow_style=False)\n",
    "    json.dump(residue_mass_mapping_config, json_file, indent=4)"
   ],
   "id": "88a60087b85f462b",
   "outputs": [
    {
     "name": "stderr",
     "output_type": "stream",
     "text": [
      "2025-03-31 04:57:41,166 - __main__ - ERROR - 'float' object has no attribute 'split'\n",
      "Traceback (most recent call last):\n",
      "  File \"/tmp/ipykernel_215344/3584271470.py\", line 16, in <module>\n",
      "    sequence_object.composition.split(\"%\")[-1]\n",
      "AttributeError: 'float' object has no attribute 'split'\n"
     ]
    }
   ],
   "execution_count": 19
  },
  {
   "metadata": {
    "ExecuteTime": {
     "end_time": "2025-03-31T02:57:41.221956Z",
     "start_time": "2025-03-31T02:57:41.217551Z"
    }
   },
   "cell_type": "code",
   "source": "print()",
   "id": "80a0ebef61a6ee56",
   "outputs": [
    {
     "name": "stdout",
     "output_type": "stream",
     "text": [
      "\n"
     ]
    }
   ],
   "execution_count": 20
  }
 ],
 "metadata": {
  "kernelspec": {
   "display_name": "Python 3",
   "language": "python",
   "name": "python3"
  },
  "language_info": {
   "codemirror_mode": {
    "name": "ipython",
    "version": 2
   },
   "file_extension": ".py",
   "mimetype": "text/x-python",
   "name": "python",
   "nbconvert_exporter": "python",
   "pygments_lexer": "ipython2",
   "version": "2.7.6"
  }
 },
 "nbformat": 4,
 "nbformat_minor": 5
}
